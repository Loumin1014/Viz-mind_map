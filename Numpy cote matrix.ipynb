{
 "cells": [
  {
   "cell_type": "markdown",
   "metadata": {},
   "source": [
    "# Manipulation de base"
   ]
  },
  {
   "cell_type": "markdown",
   "metadata": {},
   "source": [
    "## Excercice 1"
   ]
  },
  {
   "cell_type": "code",
   "execution_count": 22,
   "metadata": {},
   "outputs": [
    {
     "name": "stdout",
     "output_type": "stream",
     "text": [
      "[ 0  3  6  9 12 15 18 21 24 27 30 33 36 39 42 45 48 51 54 57 60 63 66 69\n",
      " 72 75 78 81 84 87 90 93 96 99]\n"
     ]
    }
   ],
   "source": [
    "import numpy as np\n",
    "A = np.arange(0,100,3)\n",
    "print(A)"
   ]
  },
  {
   "cell_type": "code",
   "execution_count": 23,
   "metadata": {
    "scrolled": true
   },
   "outputs": [
    {
     "name": "stdout",
     "output_type": "stream",
     "text": [
      "[ 0.00000000e+00  1.00000000e+00 -2.20436424e-15  1.00000000e+00\n",
      " -8.81745695e-15  1.00000000e+00 -4.11555602e-14  1.00000000e+00\n",
      " -3.52698278e-14  1.00000000e+00 -7.64253880e-14  1.00000000e+00\n",
      " -1.64622241e-13  1.00000000e+00 -1.86173549e-13  1.00000000e+00\n",
      " -1.41079311e-13  1.00000000e+00 -4.84086880e-13  1.00000000e+00\n",
      " -3.05701552e-13  1.00000000e+00 -6.06706795e-14  1.00000000e+00\n",
      " -6.58488964e-13  1.00000000e+00 -1.18966170e-12  1.00000000e+00\n",
      " -7.44694194e-13  1.00000000e+00 -1.14257584e-12  1.00000000e+00\n",
      " -5.64317245e-13  1.00000000e+00]\n"
     ]
    },
    {
     "data": {
      "text/plain": [
       "numpy.ndarray"
      ]
     },
     "execution_count": 23,
     "metadata": {},
     "output_type": "execute_result"
    }
   ],
   "source": [
    "B= np.sin((np.multiply(A,A))*((np.pi)/2))\n",
    "print(B)\n",
    "type(B)"
   ]
  },
  {
   "cell_type": "code",
   "execution_count": 24,
   "metadata": {},
   "outputs": [
    {
     "data": {
      "text/plain": [
       "1.0"
      ]
     },
     "execution_count": 24,
     "metadata": {},
     "output_type": "execute_result"
    }
   ],
   "source": [
    "#c= np.max(B)\n",
    "#print(c)\n",
    "B.max()\n",
    "\n",
    "#C = B.max(axis = 0)\n",
    "#print(C)\n",
    "#B == 1 #SOLUTION 1\n",
    "#sum(B == C)"
   ]
  },
  {
   "cell_type": "code",
   "execution_count": 25,
   "metadata": {},
   "outputs": [
    {
     "data": {
      "text/plain": [
       "17"
      ]
     },
     "execution_count": 25,
     "metadata": {},
     "output_type": "execute_result"
    }
   ],
   "source": [
    "len(B[B==B.max()])"
   ]
  },
  {
   "cell_type": "code",
   "execution_count": 26,
   "metadata": {},
   "outputs": [
    {
     "data": {
      "text/plain": [
       "17"
      ]
     },
     "execution_count": 26,
     "metadata": {},
     "output_type": "execute_result"
    }
   ],
   "source": [
    "c= np.argwhere(B==B.max())\n",
    "len(c)"
   ]
  },
  {
   "cell_type": "code",
   "execution_count": 27,
   "metadata": {},
   "outputs": [
    {
     "data": {
      "text/plain": [
       "17"
      ]
     },
     "execution_count": 27,
     "metadata": {},
     "output_type": "execute_result"
    }
   ],
   "source": [
    "d= np.size(c)\n",
    "d"
   ]
  },
  {
   "cell_type": "markdown",
   "metadata": {},
   "source": [
    "## Excercice 2"
   ]
  },
  {
   "cell_type": "code",
   "execution_count": 28,
   "metadata": {},
   "outputs": [
    {
     "name": "stdout",
     "output_type": "stream",
     "text": [
      "[[6, 2, 3, 5], [4, 6, 2, 6], [1, 3, 6, 7], [3, 6, 3, 8]]\n",
      "\n",
      "\n",
      "[[6 0 0 0]\n",
      " [0 6 0 0]\n",
      " [0 0 6 0]\n",
      " [0 0 0 8]]\n",
      "\n",
      "\n",
      "False\n",
      "\n",
      "\n",
      "True\n",
      "\n",
      "\n",
      "True\n"
     ]
    }
   ],
   "source": [
    "A=[[6,2,3,5],[4,6,2,6],[1,3,6,7],[3,6,3,8]]\n",
    "Z=[[6,2,3,5],[4,6,2,6],[1,3,6,7],[3,6,3,8]]\n",
    "\n",
    "#print(A)\n",
    "B=np.triu(Z)\n",
    "print(Z)\n",
    "print(\"\\n\")\n",
    "C=np.tril(B)\n",
    "print(C)\n",
    "print(\"\\n\")\n",
    "D= (A==C).all()\n",
    "print(D)\n",
    "\n",
    "M= np.eye(10)\n",
    "def est_diagonal(M):\n",
    "      return True if (M == np.triu(np.tril(M))).all() else False\n",
    "print(\"\\n\")\n",
    "def est_triangulaire_sup(M):\n",
    "     return (M == np.tril(M)).all()\n",
    "    \n",
    "def est_triangulaire_inf(M):\n",
    "     return  (M == np.triu(M)).all()  \n",
    "  \n",
    "    \n",
    "\n",
    "print(est_diagonal(M))\n",
    "print(\"\\n\")\n",
    "print(est_triangulaire_sup(M))\n"
   ]
  },
  {
   "cell_type": "markdown",
   "metadata": {},
   "source": [
    "## Excercice 3"
   ]
  },
  {
   "cell_type": "code",
   "execution_count": 29,
   "metadata": {},
   "outputs": [
    {
     "name": "stdout",
     "output_type": "stream",
     "text": [
      "[[1. 0. 0. 0. 0. 0. 0. 1.]\n",
      " [1. 0. 0. 0. 0. 0. 0. 1.]\n",
      " [1. 0. 0. 0. 0. 0. 0. 1.]\n",
      " [1. 0. 0. 0. 0. 0. 0. 1.]\n",
      " [1. 0. 0. 0. 0. 0. 0. 1.]\n",
      " [1. 0. 0. 0. 0. 0. 0. 1.]\n",
      " [1. 0. 0. 0. 0. 0. 0. 1.]\n",
      " [1. 1. 1. 1. 1. 1. 1. 1.]]\n"
     ]
    }
   ],
   "source": [
    "Z = np.ones((8,8))\n",
    "Z[0:-1,1:-1] = 0\n",
    "print(Z)"
   ]
  },
  {
   "cell_type": "code",
   "execution_count": 30,
   "metadata": {},
   "outputs": [
    {
     "data": {
      "text/plain": [
       "array([[1, 0, 0, 0, 0, 0, 0, 1],\n",
       "       [1, 0, 0, 0, 0, 0, 0, 1],\n",
       "       [1, 0, 0, 0, 0, 0, 0, 1],\n",
       "       [1, 0, 0, 0, 0, 0, 0, 1],\n",
       "       [1, 0, 0, 0, 0, 0, 0, 1],\n",
       "       [1, 0, 0, 0, 0, 0, 0, 1],\n",
       "       [1, 0, 0, 0, 0, 0, 0, 1],\n",
       "       [1, 1, 1, 1, 1, 1, 1, 1]])"
      ]
     },
     "execution_count": 30,
     "metadata": {},
     "output_type": "execute_result"
    }
   ],
   "source": [
    "A= [[1, 0, 0, 0, 0, 0, 0, 1],[1, 0, 0, 0, 0, 0, 0, 1],[1, 0, 0, 0, 0, 0, 0, 1], [1, 0, 0, 0, 0, 0, 0, 1]]\n",
    "B=[[1, 0, 0, 0, 0, 0, 0, 1],[1, 0, 0, 0, 0, 0, 0, 1],[1, 0, 0, 0, 0, 0, 0, 1],[1, 1, 1, 1, 1, 1, 1, 1]]\n",
    "np.concatenate((A, B), axis=0) \n",
    " \n",
    " \n",
    " \n",
    " \n"
   ]
  },
  {
   "cell_type": "code",
   "execution_count": 31,
   "metadata": {},
   "outputs": [
    {
     "data": {
      "text/plain": [
       "[[1, 0, 0, 0, 0, 0, 0, 1],\n",
       " [1, 0, 0, 0, 0, 0, 0, 1],\n",
       " [1, 0, 0, 0, 0, 0, 0, 1],\n",
       " [1, 0, 0, 0, 0, 0, 0, 1],\n",
       " [1, 0, 0, 0, 0, 0, 0, 1],\n",
       " [1, 0, 0, 0, 0, 0, 0, 1],\n",
       " [1, 0, 0, 0, 0, 0, 0, 1],\n",
       " [1, 1, 1, 1, 1, 1, 1, 1]]"
      ]
     },
     "execution_count": 31,
     "metadata": {},
     "output_type": "execute_result"
    }
   ],
   "source": [
    "N = []\n",
    "for x in range(0, 8):\n",
    "    N.append([0] * 8)\n",
    "    for y in range (0,8):\n",
    "        if x >= 7 or y == 0 or y == 7:\n",
    "            N[x][y] = 1\n",
    "N"
   ]
  },
  {
   "cell_type": "markdown",
   "metadata": {},
   "source": [
    "## Excercice 4"
   ]
  },
  {
   "cell_type": "code",
   "execution_count": 32,
   "metadata": {},
   "outputs": [
    {
     "name": "stdout",
     "output_type": "stream",
     "text": [
      "500000500000\n",
      "Temps d'execution = 0.060968\n"
     ]
    }
   ],
   "source": [
    "import time \n",
    "tmps1=time.time()\n",
    "list =range(1000001)\n",
    "sum(list)\n",
    "tmps2=time.time()-tmps1\n",
    "print(sum(list))\n",
    "print( \"Temps d'execution = %f\" %tmps2)"
   ]
  },
  {
   "cell_type": "code",
   "execution_count": 33,
   "metadata": {
    "scrolled": false
   },
   "outputs": [
    {
     "name": "stdout",
     "output_type": "stream",
     "text": [
      "50000005000000\n"
     ]
    }
   ],
   "source": [
    "A = np.arange(0,10000001)\n",
    "print(np.sum(A,dtype=np.int64))"
   ]
  },
  {
   "cell_type": "code",
   "execution_count": 34,
   "metadata": {},
   "outputs": [
    {
     "name": "stdout",
     "output_type": "stream",
     "text": [
      "50000005000000\n",
      "Temps d'execution = 0.053977\n"
     ]
    }
   ],
   "source": [
    "import time \n",
    "tmps1=time.time()\n",
    "A = np.arange(0,10000001)\n",
    "print(np.sum(A,dtype=np.int64))\n",
    "tmps2=time.time()-tmps1\n",
    "print( \"Temps d'execution = %f\" %tmps2)"
   ]
  },
  {
   "cell_type": "markdown",
   "metadata": {},
   "source": [
    "## Excercice 5"
   ]
  },
  {
   "cell_type": "code",
   "execution_count": 46,
   "metadata": {},
   "outputs": [
    {
     "data": {
      "text/plain": [
       "array([[60, 37, 65, ..., 91, 94, 20],\n",
       "       [62, 77, 94, ..., 62, 51, 18],\n",
       "       [19, 46,  6, ..., 11,  2, 67],\n",
       "       ...,\n",
       "       [22, 97, 89, ..., 32, 71, 20],\n",
       "       [38, 81, 28, ..., 99, 89, 68],\n",
       "       [18, 58, 39, ...,  6,  2,  1]])"
      ]
     },
     "execution_count": 46,
     "metadata": {},
     "output_type": "execute_result"
    }
   ],
   "source": [
    "A = np.random.randint(100, size=(50, 50))\n",
    "A"
   ]
  },
  {
   "cell_type": "code",
   "execution_count": 47,
   "metadata": {},
   "outputs": [
    {
     "name": "stdout",
     "output_type": "stream",
     "text": [
      "94\n"
     ]
    }
   ],
   "source": [
    "max = 0\n",
    "for i in range(49):\n",
    "    for j in range(49):\n",
    "        if max < A[j+1][i]-A[i][j]:\n",
    "            max = A[i][j]\n",
    "print(max)()"
   ]
  },
  {
   "cell_type": "markdown",
   "metadata": {},
   "source": [
    "## Excercice 6"
   ]
  },
  {
   "cell_type": "code",
   "execution_count": 37,
   "metadata": {},
   "outputs": [
    {
     "name": "stdout",
     "output_type": "stream",
     "text": [
      "[[0.38124232 0.23400411 0.87813991 ... 0.26663648 0.56500417 0.51089156]\n",
      " [0.32028149 0.29247927 0.98332083 ... 0.92850825 0.0505661  0.91969708]\n",
      " [0.53052674 0.51793717 0.51227638 ... 0.45077121 0.95470188 0.80461935]\n",
      " ...\n",
      " [0.14048553 0.85916181 0.8904688  ... 0.72998734 0.66429496 0.94024542]\n",
      " [0.17999286 0.78453125 0.39352235 ... 0.06880263 0.84385641 0.29312151]\n",
      " [0.6166651  0.63156612 0.57451444 ... 0.81202186 0.33500703 0.18372947]]\n",
      "\n",
      "\n",
      "1232\n",
      "[[0 0 1 ... 0 1 1]\n",
      " [0 0 1 ... 1 0 1]\n",
      " [1 1 1 ... 0 1 1]\n",
      " ...\n",
      " [0 1 1 ... 1 1 1]\n",
      " [0 1 0 ... 0 1 0]\n",
      " [1 1 1 ... 1 0 0]]\n",
      "\n",
      "\n",
      "[1. 1. 1. 1. 1. 1. 1. 1. 1. 1. 1. 1. 1. 1. 1. 1. 1. 1. 1. 1. 1. 1. 1. 1.\n",
      " 1. 1. 1. 1. 1. 1. 1. 1. 1. 1. 1. 1. 1. 1. 1. 1. 1. 1. 1. 1. 1. 1. 1. 1.\n",
      " 1. 1.]\n",
      "[0. 0. 0. 0. 0. 0. 0. 0. 0. 0. 0. 0. 0. 0. 0. 0. 0. 0. 0. 0. 0. 0. 0. 0.\n",
      " 0. 0. 0. 0. 0. 0. 0. 0. 0. 0. 0. 0. 0. 0. 0. 0. 0. 0. 0. 0. 0. 0. 0. 0.\n",
      " 0. 0.]\n",
      "\n",
      "\n",
      "[[0 0 1 ... 0 1 1]\n",
      " [0 0 1 ... 1 0 1]\n",
      " [1 1 1 ... 0 1 1]\n",
      " ...\n",
      " [0 1 1 ... 1 1 1]\n",
      " [0 1 0 ... 0 1 0]\n",
      " [1 1 1 ... 1 0 0]]\n"
     ]
    }
   ],
   "source": [
    "import numpy as np\n",
    "a = np.random.rand(50,50)\n",
    "print(a)\n",
    "print(\"\\n\")\n",
    "count=np.count_nonzero(a<=0.5)\n",
    "print(count)\n",
    "\n",
    "b=(a>0.5).astype(int)\n",
    "print(b)\n",
    "\n",
    "print(\"\\n\")\n",
    "\n",
    "c=np.select(a<=0.5, a)\n",
    "np.ceil(c)\n",
    "d=np.select(a>0.5, a)\n",
    "np.floor(d)\n",
    "print(np.ceil(c))\n",
    "print(np.floor(d))\n",
    "print(\"\\n\")\n",
    "\n",
    "d= np.where(a<0.5, 0,1)\n",
    "print(d)"
   ]
  },
  {
   "cell_type": "markdown",
   "metadata": {},
   "source": [
    "## Exercice 7"
   ]
  },
  {
   "cell_type": "code",
   "execution_count": 38,
   "metadata": {},
   "outputs": [
    {
     "name": "stdout",
     "output_type": "stream",
     "text": [
      "[-0.5  0.  -0.5  1. ]\n"
     ]
    }
   ],
   "source": [
    "a= np.array([[1,2,1,1],[0,1,2,1],[1,0,1,2],[2,1,0,1]]) \n",
    "b=np.array([0,0,1,0])\n",
    "x = np.linalg.solve(a, b)\n",
    "print(x)\n"
   ]
  },
  {
   "cell_type": "markdown",
   "metadata": {},
   "source": [
    "## Excercice 8"
   ]
  },
  {
   "cell_type": "code",
   "execution_count": 39,
   "metadata": {},
   "outputs": [
    {
     "name": "stdout",
     "output_type": "stream",
     "text": [
      "Please enter the string to encode\n",
      "[]\n"
     ]
    }
   ],
   "source": [
    "text=input(\"Please enter the string to encode\")\n",
    "encoded=[]\n",
    "index=0\n",
    "amount=1\n",
    "while index<=(len(text)-1):  \n",
    "  if index==(len(text)-1) or text[index]!=text[(index+1)]:\n",
    "    encoded.append((text[index],amount))        \n",
    "    amount=1\n",
    "  else:\n",
    "    amount=amount+1            \n",
    "  index=index+1   \n",
    "print(encoded)"
   ]
  },
  {
   "cell_type": "code",
   "execution_count": 41,
   "metadata": {},
   "outputs": [
    {
     "name": "stdout",
     "output_type": "stream",
     "text": [
      "Please enter the string to encode  GGGGFSSSSSLLLLOOO\n",
      "Encoded value is [('G', 4), ('F', 1), ('S', 5), ('L', 4), ('O', 3)]\n",
      "GGGGFSSSSSLLLLOOO\n"
     ]
    }
   ],
   "source": [
    "def encode(input_string):\n",
    "    count = 1\n",
    "    prev = ''\n",
    "    lst = []\n",
    "    for character in input_string:\n",
    "        if character != prev:\n",
    "            if prev:\n",
    "                entry = (prev,count)\n",
    "                lst.append(entry)\n",
    "                #print lst\n",
    "            count = 1\n",
    "            prev = character\n",
    "        else:\n",
    "            count += 1\n",
    "    else:\n",
    "        try:\n",
    "            entry = (character,count)\n",
    "            lst.append(entry)\n",
    "            return (lst, 0)\n",
    "        except Exception as e:\n",
    "            print(\"Exception encountered {e}\".format(e=e)) \n",
    "            return (e, 1)\n",
    " \n",
    "def decode(lst):\n",
    "    q = \"\"\n",
    "    for character, count in lst:\n",
    "        q += character * count\n",
    "    return q\n",
    " \n",
    "#Method call\n",
    "value = encode(input(\"Please enter the string to encode  \"))\n",
    "if value[1] == 0:\n",
    "    print(\"Encoded value is {}\".format(value[0]))\n",
    "    decode(value[0])\n",
    "    print(decode(value[0]))"
   ]
  },
  {
   "cell_type": "code",
   "execution_count": null,
   "metadata": {},
   "outputs": [],
   "source": []
  }
 ],
 "metadata": {
  "kernelspec": {
   "display_name": "Python 3",
   "language": "python",
   "name": "python3"
  },
  "language_info": {
   "codemirror_mode": {
    "name": "ipython",
    "version": 3
   },
   "file_extension": ".py",
   "mimetype": "text/x-python",
   "name": "python",
   "nbconvert_exporter": "python",
   "pygments_lexer": "ipython3",
   "version": "3.7.0"
  }
 },
 "nbformat": 4,
 "nbformat_minor": 2
}
